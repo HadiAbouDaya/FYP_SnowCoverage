{
 "cells": [
  {
   "cell_type": "code",
   "execution_count": 1,
   "id": "2491f543-6500-4892-bcbe-42d11ea9a4b8",
   "metadata": {},
   "outputs": [
    {
     "name": "stderr",
     "output_type": "stream",
     "text": [
      "2023-09-10 22:54:58.238696: I tensorflow/core/platform/cpu_feature_guard.cc:182] This TensorFlow binary is optimized to use available CPU instructions in performance-critical operations.\n",
      "To enable the following instructions: SSE4.1 SSE4.2 AVX AVX2 AVX512F AVX512_VNNI FMA, in other operations, rebuild TensorFlow with the appropriate compiler flags.\n"
     ]
    }
   ],
   "source": [
    "import tensorflow as tf\n",
    "import numpy as np\n",
    "import pandas as pd\n",
    "from sklearn.preprocessing import StandardScaler, MinMaxScaler"
   ]
  },
  {
   "cell_type": "code",
   "execution_count": 57,
   "id": "c9cd861c-37b3-4a7a-9eae-1875f858e5ba",
   "metadata": {},
   "outputs": [],
   "source": [
    "df = pd.read_csv(\"./Data/Combined_Lebanon_Snow_Data.csv\")"
   ]
  },
  {
   "cell_type": "code",
   "execution_count": 53,
   "id": "3e7e6570-d442-45ca-b6e5-11d364f0eb65",
   "metadata": {},
   "outputs": [
    {
     "data": {
      "text/html": [
       "<div>\n",
       "<style scoped>\n",
       "    .dataframe tbody tr th:only-of-type {\n",
       "        vertical-align: middle;\n",
       "    }\n",
       "\n",
       "    .dataframe tbody tr th {\n",
       "        vertical-align: top;\n",
       "    }\n",
       "\n",
       "    .dataframe thead th {\n",
       "        text-align: right;\n",
       "    }\n",
       "</style>\n",
       "<table border=\"1\" class=\"dataframe\">\n",
       "  <thead>\n",
       "    <tr style=\"text-align: right;\">\n",
       "      <th></th>\n",
       "      <th>longitude</th>\n",
       "      <th>latitude</th>\n",
       "      <th>time</th>\n",
       "      <th>sde</th>\n",
       "    </tr>\n",
       "  </thead>\n",
       "  <tbody>\n",
       "    <tr>\n",
       "      <th>188</th>\n",
       "      <td>35.25</td>\n",
       "      <td>33.0</td>\n",
       "      <td>1993-01-01</td>\n",
       "      <td>0.0</td>\n",
       "    </tr>\n",
       "    <tr>\n",
       "      <th>212</th>\n",
       "      <td>35.25</td>\n",
       "      <td>33.1</td>\n",
       "      <td>1993-01-01</td>\n",
       "      <td>0.0</td>\n",
       "    </tr>\n",
       "    <tr>\n",
       "      <th>134</th>\n",
       "      <td>35.25</td>\n",
       "      <td>33.2</td>\n",
       "      <td>1993-01-01</td>\n",
       "      <td>0.0</td>\n",
       "    </tr>\n",
       "    <tr>\n",
       "      <th>78</th>\n",
       "      <td>35.25</td>\n",
       "      <td>33.3</td>\n",
       "      <td>1993-01-01</td>\n",
       "      <td>0.0</td>\n",
       "    </tr>\n",
       "    <tr>\n",
       "      <th>116</th>\n",
       "      <td>35.25</td>\n",
       "      <td>33.4</td>\n",
       "      <td>1993-01-01</td>\n",
       "      <td>0.0</td>\n",
       "    </tr>\n",
       "  </tbody>\n",
       "</table>\n",
       "</div>"
      ],
      "text/plain": [
       "     longitude  latitude       time  sde\n",
       "188      35.25      33.0 1993-01-01  0.0\n",
       "212      35.25      33.1 1993-01-01  0.0\n",
       "134      35.25      33.2 1993-01-01  0.0\n",
       "78       35.25      33.3 1993-01-01  0.0\n",
       "116      35.25      33.4 1993-01-01  0.0"
      ]
     },
     "execution_count": 53,
     "metadata": {},
     "output_type": "execute_result"
    }
   ],
   "source": [
    "df.head()"
   ]
  },
  {
   "cell_type": "markdown",
   "id": "d2c8db7d-b225-4e77-ac7b-075b55c2214a",
   "metadata": {},
   "source": [
    "## Data Manipulation"
   ]
  },
  {
   "cell_type": "code",
   "execution_count": 41,
   "id": "258318e1-b317-4e9a-8a19-a7da4aa28605",
   "metadata": {},
   "outputs": [],
   "source": [
    "# Convert time to a numerical feature (e.g., number of days since the first date)\n",
    "df['time'] = pd.to_datetime(df['time'])\n",
    "df['time'] = (df['time'] - df['time'].min()).dt.days"
   ]
  },
  {
   "cell_type": "code",
   "execution_count": 42,
   "id": "86f39414-58d0-4877-9b6c-2670a767cf41",
   "metadata": {},
   "outputs": [
    {
     "data": {
      "text/html": [
       "<div>\n",
       "<style scoped>\n",
       "    .dataframe tbody tr th:only-of-type {\n",
       "        vertical-align: middle;\n",
       "    }\n",
       "\n",
       "    .dataframe tbody tr th {\n",
       "        vertical-align: top;\n",
       "    }\n",
       "\n",
       "    .dataframe thead th {\n",
       "        text-align: right;\n",
       "    }\n",
       "</style>\n",
       "<table border=\"1\" class=\"dataframe\">\n",
       "  <thead>\n",
       "    <tr style=\"text-align: right;\">\n",
       "      <th></th>\n",
       "      <th>longitude</th>\n",
       "      <th>latitude</th>\n",
       "      <th>time</th>\n",
       "      <th>sde</th>\n",
       "    </tr>\n",
       "  </thead>\n",
       "  <tbody>\n",
       "    <tr>\n",
       "      <th>0</th>\n",
       "      <td>35.65</td>\n",
       "      <td>34.5</td>\n",
       "      <td>0</td>\n",
       "      <td>NaN</td>\n",
       "    </tr>\n",
       "    <tr>\n",
       "      <th>1</th>\n",
       "      <td>36.35</td>\n",
       "      <td>34.3</td>\n",
       "      <td>0</td>\n",
       "      <td>0.067378</td>\n",
       "    </tr>\n",
       "    <tr>\n",
       "      <th>2</th>\n",
       "      <td>35.95</td>\n",
       "      <td>33.6</td>\n",
       "      <td>0</td>\n",
       "      <td>0.007813</td>\n",
       "    </tr>\n",
       "    <tr>\n",
       "      <th>3</th>\n",
       "      <td>36.35</td>\n",
       "      <td>33.7</td>\n",
       "      <td>0</td>\n",
       "      <td>0.004883</td>\n",
       "    </tr>\n",
       "    <tr>\n",
       "      <th>4</th>\n",
       "      <td>36.35</td>\n",
       "      <td>33.1</td>\n",
       "      <td>0</td>\n",
       "      <td>0.000000</td>\n",
       "    </tr>\n",
       "  </tbody>\n",
       "</table>\n",
       "</div>"
      ],
      "text/plain": [
       "   longitude  latitude  time       sde\n",
       "0      35.65      34.5     0       NaN\n",
       "1      36.35      34.3     0  0.067378\n",
       "2      35.95      33.6     0  0.007813\n",
       "3      36.35      33.7     0  0.004883\n",
       "4      36.35      33.1     0  0.000000"
      ]
     },
     "execution_count": 42,
     "metadata": {},
     "output_type": "execute_result"
    }
   ],
   "source": [
    "df.head()"
   ]
  },
  {
   "cell_type": "code",
   "execution_count": 43,
   "id": "e28a36cb-f423-4143-a11f-98b9ddc6cb2f",
   "metadata": {},
   "outputs": [],
   "source": [
    "# Sort the DataFrame\n",
    "df.sort_values(by=['time', 'longitude', 'latitude'], inplace=True)"
   ]
  },
  {
   "cell_type": "code",
   "execution_count": 44,
   "id": "a4246fe2-e422-4c77-98fe-9b00abcdc3d0",
   "metadata": {},
   "outputs": [],
   "source": [
    "from sklearn.metrics import pairwise_distances\n",
    "\n",
    "# Function to find closest points based on spatial-temporal features\n",
    "def find_closest_points(idx, df, k=5):\n",
    "    missing_row = df.loc[[idx], :]\n",
    "    \n",
    "    # Drop the row with the missing value\n",
    "    available_data = df.drop(index=idx)\n",
    "    \n",
    "    # Calculate pairwise distance\n",
    "    dists = pairwise_distances(missing_row[['time', 'longitude', 'latitude']], available_data[['time', 'longitude', 'latitude']])\n",
    "    \n",
    "    # Get the indices of the closest k points\n",
    "    closest_points = np.argsort(dists)[:, :k]\n",
    "    \n",
    "    return available_data.index[closest_points[0]]"
   ]
  },
  {
   "cell_type": "code",
   "execution_count": 45,
   "id": "e5a74d56-56ef-48e2-a6c8-efae0e4e547d",
   "metadata": {},
   "outputs": [],
   "source": [
    "# Identify missing rows\n",
    "missing_indices = df[df['sde'].isna()].index.tolist()"
   ]
  },
  {
   "cell_type": "code",
   "execution_count": 46,
   "id": "8479c047-28d2-4ed7-b282-40095ae3a14d",
   "metadata": {},
   "outputs": [
    {
     "ename": "KeyboardInterrupt",
     "evalue": "",
     "output_type": "error",
     "traceback": [
      "\u001b[0;31m---------------------------------------------------------------------------\u001b[0m",
      "\u001b[0;31mKeyboardInterrupt\u001b[0m                         Traceback (most recent call last)",
      "Cell \u001b[0;32mIn[46], line 26\u001b[0m\n\u001b[1;32m     24\u001b[0m     \u001b[38;5;66;03m# Impute missing value\u001b[39;00m\n\u001b[1;32m     25\u001b[0m     predicted_sde \u001b[38;5;241m=\u001b[39m model\u001b[38;5;241m.\u001b[39mpredict(X_test)\n\u001b[0;32m---> 26\u001b[0m     \u001b[43mdf\u001b[49m\u001b[38;5;241;43m.\u001b[39;49m\u001b[43mloc\u001b[49m\u001b[43m[\u001b[49m\u001b[43midx\u001b[49m\u001b[43m,\u001b[49m\u001b[43m \u001b[49m\u001b[38;5;124;43m'\u001b[39;49m\u001b[38;5;124;43msde\u001b[39;49m\u001b[38;5;124;43m'\u001b[39;49m\u001b[43m]\u001b[49m \u001b[38;5;241m=\u001b[39m predicted_sde[\u001b[38;5;241m0\u001b[39m]\n\u001b[1;32m     27\u001b[0m \u001b[38;5;28;01melse\u001b[39;00m:\n\u001b[1;32m     28\u001b[0m     n\u001b[38;5;241m+\u001b[39m\u001b[38;5;241m=\u001b[39m\u001b[38;5;241m1\u001b[39m\n",
      "File \u001b[0;32m~/anaconda3/envs/SnowCoverage/lib/python3.11/site-packages/pandas/core/indexing.py:845\u001b[0m, in \u001b[0;36m_LocationIndexer.__setitem__\u001b[0;34m(self, key, value)\u001b[0m\n\u001b[1;32m    843\u001b[0m \u001b[38;5;28;01melse\u001b[39;00m:\n\u001b[1;32m    844\u001b[0m     key \u001b[38;5;241m=\u001b[39m com\u001b[38;5;241m.\u001b[39mapply_if_callable(key, \u001b[38;5;28mself\u001b[39m\u001b[38;5;241m.\u001b[39mobj)\n\u001b[0;32m--> 845\u001b[0m indexer \u001b[38;5;241m=\u001b[39m \u001b[38;5;28;43mself\u001b[39;49m\u001b[38;5;241;43m.\u001b[39;49m\u001b[43m_get_setitem_indexer\u001b[49m\u001b[43m(\u001b[49m\u001b[43mkey\u001b[49m\u001b[43m)\u001b[49m\n\u001b[1;32m    846\u001b[0m \u001b[38;5;28mself\u001b[39m\u001b[38;5;241m.\u001b[39m_has_valid_setitem_indexer(key)\n\u001b[1;32m    848\u001b[0m iloc \u001b[38;5;241m=\u001b[39m \u001b[38;5;28mself\u001b[39m \u001b[38;5;28;01mif\u001b[39;00m \u001b[38;5;28mself\u001b[39m\u001b[38;5;241m.\u001b[39mname \u001b[38;5;241m==\u001b[39m \u001b[38;5;124m\"\u001b[39m\u001b[38;5;124miloc\u001b[39m\u001b[38;5;124m\"\u001b[39m \u001b[38;5;28;01melse\u001b[39;00m \u001b[38;5;28mself\u001b[39m\u001b[38;5;241m.\u001b[39mobj\u001b[38;5;241m.\u001b[39miloc\n",
      "File \u001b[0;32m~/anaconda3/envs/SnowCoverage/lib/python3.11/site-packages/pandas/core/indexing.py:691\u001b[0m, in \u001b[0;36m_LocationIndexer._get_setitem_indexer\u001b[0;34m(self, key)\u001b[0m\n\u001b[1;32m    686\u001b[0m \u001b[38;5;250m\u001b[39m\u001b[38;5;124;03m\"\"\"\u001b[39;00m\n\u001b[1;32m    687\u001b[0m \u001b[38;5;124;03mConvert a potentially-label-based key into a positional indexer.\u001b[39;00m\n\u001b[1;32m    688\u001b[0m \u001b[38;5;124;03m\"\"\"\u001b[39;00m\n\u001b[1;32m    689\u001b[0m \u001b[38;5;28;01mif\u001b[39;00m \u001b[38;5;28mself\u001b[39m\u001b[38;5;241m.\u001b[39mname \u001b[38;5;241m==\u001b[39m \u001b[38;5;124m\"\u001b[39m\u001b[38;5;124mloc\u001b[39m\u001b[38;5;124m\"\u001b[39m:\n\u001b[1;32m    690\u001b[0m     \u001b[38;5;66;03m# always holds here bc iloc overrides _get_setitem_indexer\u001b[39;00m\n\u001b[0;32m--> 691\u001b[0m     \u001b[38;5;28;43mself\u001b[39;49m\u001b[38;5;241;43m.\u001b[39;49m\u001b[43m_ensure_listlike_indexer\u001b[49m\u001b[43m(\u001b[49m\u001b[43mkey\u001b[49m\u001b[43m)\u001b[49m\n\u001b[1;32m    693\u001b[0m \u001b[38;5;28;01mif\u001b[39;00m \u001b[38;5;28misinstance\u001b[39m(key, \u001b[38;5;28mtuple\u001b[39m):\n\u001b[1;32m    694\u001b[0m     \u001b[38;5;28;01mfor\u001b[39;00m x \u001b[38;5;129;01min\u001b[39;00m key:\n",
      "File \u001b[0;32m~/anaconda3/envs/SnowCoverage/lib/python3.11/site-packages/pandas/core/indexing.py:805\u001b[0m, in \u001b[0;36m_LocationIndexer._ensure_listlike_indexer\u001b[0;34m(self, key, axis, value)\u001b[0m\n\u001b[1;32m    799\u001b[0m     key \u001b[38;5;241m=\u001b[39m key[column_axis]\n\u001b[1;32m    800\u001b[0m     axis \u001b[38;5;241m=\u001b[39m column_axis\n\u001b[1;32m    802\u001b[0m \u001b[38;5;28;01mif\u001b[39;00m (\n\u001b[1;32m    803\u001b[0m     axis \u001b[38;5;241m==\u001b[39m column_axis\n\u001b[1;32m    804\u001b[0m     \u001b[38;5;129;01mand\u001b[39;00m \u001b[38;5;129;01mnot\u001b[39;00m \u001b[38;5;28misinstance\u001b[39m(\u001b[38;5;28mself\u001b[39m\u001b[38;5;241m.\u001b[39mobj\u001b[38;5;241m.\u001b[39mcolumns, MultiIndex)\n\u001b[0;32m--> 805\u001b[0m     \u001b[38;5;129;01mand\u001b[39;00m \u001b[43mis_list_like_indexer\u001b[49m\u001b[43m(\u001b[49m\u001b[43mkey\u001b[49m\u001b[43m)\u001b[49m\n\u001b[1;32m    806\u001b[0m     \u001b[38;5;129;01mand\u001b[39;00m \u001b[38;5;129;01mnot\u001b[39;00m com\u001b[38;5;241m.\u001b[39mis_bool_indexer(key)\n\u001b[1;32m    807\u001b[0m     \u001b[38;5;129;01mand\u001b[39;00m \u001b[38;5;28mall\u001b[39m(is_hashable(k) \u001b[38;5;28;01mfor\u001b[39;00m k \u001b[38;5;129;01min\u001b[39;00m key)\n\u001b[1;32m    808\u001b[0m ):\n\u001b[1;32m    809\u001b[0m     \u001b[38;5;66;03m# GH#38148\u001b[39;00m\n\u001b[1;32m    810\u001b[0m     keys \u001b[38;5;241m=\u001b[39m \u001b[38;5;28mself\u001b[39m\u001b[38;5;241m.\u001b[39mobj\u001b[38;5;241m.\u001b[39mcolumns\u001b[38;5;241m.\u001b[39munion(key, sort\u001b[38;5;241m=\u001b[39m\u001b[38;5;28;01mFalse\u001b[39;00m)\n\u001b[1;32m    811\u001b[0m     diff \u001b[38;5;241m=\u001b[39m Index(key)\u001b[38;5;241m.\u001b[39mdifference(\u001b[38;5;28mself\u001b[39m\u001b[38;5;241m.\u001b[39mobj\u001b[38;5;241m.\u001b[39mcolumns, sort\u001b[38;5;241m=\u001b[39m\u001b[38;5;28;01mFalse\u001b[39;00m)\n",
      "File \u001b[0;32m~/anaconda3/envs/SnowCoverage/lib/python3.11/site-packages/pandas/core/indexers/utils.py:64\u001b[0m, in \u001b[0;36mis_list_like_indexer\u001b[0;34m(key)\u001b[0m\n\u001b[1;32m     55\u001b[0m         \u001b[38;5;28;01mreturn\u001b[39;00m val \u001b[38;5;129;01mis\u001b[39;00m \u001b[38;5;28;01mNone\u001b[39;00m \u001b[38;5;129;01mor\u001b[39;00m is_integer(val)\n\u001b[1;32m     57\u001b[0m     \u001b[38;5;28;01mreturn\u001b[39;00m (\n\u001b[1;32m     58\u001b[0m         is_int_or_none(slc\u001b[38;5;241m.\u001b[39mstart)\n\u001b[1;32m     59\u001b[0m         \u001b[38;5;129;01mand\u001b[39;00m is_int_or_none(slc\u001b[38;5;241m.\u001b[39mstop)\n\u001b[1;32m     60\u001b[0m         \u001b[38;5;129;01mand\u001b[39;00m is_int_or_none(slc\u001b[38;5;241m.\u001b[39mstep)\n\u001b[1;32m     61\u001b[0m     )\n\u001b[0;32m---> 64\u001b[0m \u001b[38;5;28;01mdef\u001b[39;00m \u001b[38;5;21mis_list_like_indexer\u001b[39m(key) \u001b[38;5;241m-\u001b[39m\u001b[38;5;241m>\u001b[39m \u001b[38;5;28mbool\u001b[39m:\n\u001b[1;32m     65\u001b[0m \u001b[38;5;250m    \u001b[39m\u001b[38;5;124;03m\"\"\"\u001b[39;00m\n\u001b[1;32m     66\u001b[0m \u001b[38;5;124;03m    Check if we have a list-like indexer that is *not* a NamedTuple.\u001b[39;00m\n\u001b[1;32m     67\u001b[0m \n\u001b[0;32m   (...)\u001b[0m\n\u001b[1;32m     74\u001b[0m \u001b[38;5;124;03m    bool\u001b[39;00m\n\u001b[1;32m     75\u001b[0m \u001b[38;5;124;03m    \"\"\"\u001b[39;00m\n\u001b[1;32m     76\u001b[0m     \u001b[38;5;66;03m# allow a list_like, but exclude NamedTuples which can be indexers\u001b[39;00m\n",
      "\u001b[0;31mKeyboardInterrupt\u001b[0m: "
     ]
    }
   ],
   "source": [
    "y, n = 0, 0\n",
    "\n",
    "# Loop through missing indices and impute them\n",
    "for idx in missing_indices:\n",
    "    closest_points = find_closest_points(idx, df)\n",
    "    \n",
    "    # Filter out rows with missing 'sde' values\n",
    "    closest_points = [i for i in closest_points if not np.isnan(df.loc[i, 'sde'])]\n",
    "    \n",
    "    # Prepare data for training\n",
    "    X_train = df.loc[closest_points, ['time', 'longitude', 'latitude']]\n",
    "    y_train = df.loc[closest_points, 'sde']\n",
    "    \n",
    "    # If we have enough data to train, proceed\n",
    "    if len(y_train) > 0 and not y_train.isna().any():\n",
    "        y+=1\n",
    "        # Prepare data for prediction\n",
    "        X_test = df.loc[[idx], ['time', 'longitude', 'latitude']]\n",
    "        \n",
    "        # Train Random Forest Regressor\n",
    "        model = RandomForestRegressor(n_estimators=100, random_state=42)\n",
    "        model.fit(X_train, y_train)\n",
    "        \n",
    "        # Impute missing value\n",
    "        predicted_sde = model.predict(X_test)\n",
    "        df.loc[idx, 'sde'] = predicted_sde[0]\n",
    "    else:\n",
    "        n+=1\n",
    "        # If not enough data to train, you can choose to fill with a default value or other simpler methods\n",
    "        df.loc[idx, 'sde'] = df['sde'].mean()  # Filling with mean as a fallback\n"
   ]
  },
  {
   "cell_type": "code",
   "execution_count": null,
   "id": "a4a53129-d699-4627-ba39-34176b7c5d1f",
   "metadata": {},
   "outputs": [],
   "source": [
    "# Convert time back to datetime if needed\n",
    "df['time'] = pd.to_timedelta(df['time'], unit='D') + pd.to_datetime('1993-01-01')"
   ]
  },
  {
   "cell_type": "code",
   "execution_count": null,
   "id": "c663c997-5d57-4868-8668-681bdef9ea98",
   "metadata": {},
   "outputs": [],
   "source": [
    "df.head()"
   ]
  },
  {
   "cell_type": "code",
   "execution_count": null,
   "id": "a0369eec-09bf-4c19-9412-57b0ccc15bce",
   "metadata": {},
   "outputs": [],
   "source": []
  },
  {
   "cell_type": "code",
   "execution_count": 52,
   "id": "62a440e5-b96a-4ccb-b0af-9ef61eac02b4",
   "metadata": {},
   "outputs": [
    {
     "name": "stdout",
     "output_type": "stream",
     "text": [
      "         longitude  latitude       time           sde\n",
      "188          35.25      33.0 1993-01-01  0.000000e+00\n",
      "212          35.25      33.1 1993-01-01  0.000000e+00\n",
      "134          35.25      33.2 1993-01-01  0.000000e+00\n",
      "78           35.25      33.3 1993-01-01  0.000000e+00\n",
      "116          35.25      33.4 1993-01-01  0.000000e+00\n",
      "...            ...       ...        ...           ...\n",
      "1778296      36.45      34.2 2022-12-30  7.324446e-03\n",
      "1778299      36.45      34.3 2022-12-30  2.930055e-03\n",
      "1778289      36.45      34.4 2022-12-30  4.619360e-07\n",
      "1778272      36.45      34.5 2022-12-30  0.000000e+00\n",
      "1778359      36.45      34.6 2022-12-30  0.000000e+00\n",
      "\n",
      "[1778387 rows x 4 columns]\n"
     ]
    }
   ],
   "source": [
    "from sklearn.neighbors import KNeighborsRegressor\n",
    "# Convert time to a numerical feature (e.g., number of days since the first date)\n",
    "df['time'] = pd.to_datetime(df['time'])\n",
    "df['time'] = (df['time'] - df['time'].min()).dt.days\n",
    "\n",
    "# Sort the DataFrame\n",
    "df.sort_values(by=['time', 'longitude', 'latitude'], inplace=True)\n",
    "\n",
    "def batch_impute_missing(df, missing_indices, k=5):\n",
    "    # Prepare data for training\n",
    "    available_data = df.drop(index=missing_indices)\n",
    "    X_available = available_data[['time', 'longitude', 'latitude']]\n",
    "    y_available = available_data['sde']\n",
    "    \n",
    "    # Prepare data for prediction\n",
    "    X_missing = df.loc[missing_indices, ['time', 'longitude', 'latitude']]\n",
    "    \n",
    "    # Train distance-weighted k-NN Regressor\n",
    "    model = KNeighborsRegressor(n_neighbors=k, weights='distance')\n",
    "    model.fit(X_available, y_available)\n",
    "    \n",
    "    # Impute missing values\n",
    "    predicted_sde = model.predict(X_missing)\n",
    "    df.loc[missing_indices, 'sde'] = predicted_sde\n",
    "    \n",
    "    return df\n",
    "\n",
    "# Identify missing rows\n",
    "missing_indices = df[df['sde'].isna()].index.tolist()\n",
    "\n",
    "# Batch impute missing values\n",
    "df = batch_impute_missing(df, missing_indices)\n",
    "\n",
    "# Convert time back to datetime if needed\n",
    "df['time'] = pd.to_timedelta(df['time'], unit='D') + pd.to_datetime('1993-01-01')\n",
    "\n",
    "print(df)"
   ]
  },
  {
   "cell_type": "code",
   "execution_count": null,
   "id": "c6a9d991-75b6-4c14-92df-4b0065aefd27",
   "metadata": {},
   "outputs": [],
   "source": []
  },
  {
   "cell_type": "code",
   "execution_count": 59,
   "id": "00b6ec81-5482-4261-a2da-9290f475c01a",
   "metadata": {},
   "outputs": [
    {
     "name": "stdout",
     "output_type": "stream",
     "text": [
      "         longitude  latitude       time  sde\n",
      "188          35.25      33.0 1993-01-01  0.0\n",
      "299          35.25      33.0 1993-01-01  0.0\n",
      "637          35.25      33.0 1993-01-01  0.0\n",
      "861          35.25      33.0 1993-01-01  0.0\n",
      "1009         35.25      33.0 1993-01-01  0.0\n",
      "...            ...       ...        ...  ...\n",
      "1777493      36.45      34.6 1993-01-01  0.0\n",
      "1777608      36.45      34.6 1993-01-01  0.0\n",
      "1777754      36.45      34.6 1993-01-01  0.0\n",
      "1778112      36.45      34.6 1993-01-01  0.0\n",
      "1778359      36.45      34.6 1993-01-01  0.0\n",
      "\n",
      "[1778387 rows x 4 columns]\n"
     ]
    }
   ],
   "source": [
    "from sklearn.ensemble import GradientBoostingRegressor\n",
    "\n",
    "# Convert time to a numerical feature (e.g., number of days since the first date)\n",
    "df['time'] = pd.to_datetime(df['time'])\n",
    "df['time'] = (df['time'] - df['time'].min()).dt.days\n",
    "\n",
    "# Sort the DataFrame\n",
    "df.sort_values(by=['time', 'longitude', 'latitude'], inplace=True)\n",
    "\n",
    "def batch_impute_missing(df, missing_indices):\n",
    "    # Prepare data for training\n",
    "    available_data = df.drop(index=missing_indices)\n",
    "    X_available = available_data[['time', 'longitude', 'latitude']]\n",
    "    y_available = available_data['sde']\n",
    "    \n",
    "    # Prepare data for prediction\n",
    "    X_missing = df.loc[missing_indices, ['time', 'longitude', 'latitude']]\n",
    "    \n",
    "    # Train Gradient Boosting Regressor\n",
    "    model = GradientBoostingRegressor(n_estimators=100, random_state=42)\n",
    "    model.fit(X_available, y_available)\n",
    "    \n",
    "    # Impute missing values\n",
    "    predicted_sde = model.predict(X_missing)\n",
    "    df.loc[missing_indices, 'sde'] = predicted_sde\n",
    "    \n",
    "    return df\n",
    "\n",
    "# Identify missing rows\n",
    "missing_indices = df[df['sde'].isna()].index.tolist()\n",
    "\n",
    "# Batch impute missing values\n",
    "df = batch_impute_missing(df, missing_indices)\n",
    "\n",
    "# Convert time back to datetime if needed\n",
    "df['time'] = pd.to_timedelta(df['time'], unit='D') + pd.to_datetime('1993-01-01')\n",
    "\n",
    "print(df)\n"
   ]
  },
  {
   "cell_type": "code",
   "execution_count": null,
   "id": "2dcabb8b-6519-4c55-9e80-cd6dd1dd4f46",
   "metadata": {},
   "outputs": [],
   "source": []
  },
  {
   "cell_type": "code",
   "execution_count": null,
   "id": "2d6c88a8-7fb0-41a4-8b6b-ce9ce9a7bed4",
   "metadata": {},
   "outputs": [],
   "source": []
  },
  {
   "cell_type": "code",
   "execution_count": 12,
   "id": "3d0a8ebf-3eba-4bab-924a-3a258d65e6e0",
   "metadata": {},
   "outputs": [],
   "source": [
    "# Sort your dataframe by time, longitude, and latitude\n",
    "df = df.sort_values(['time', 'longitude', 'latitude'])"
   ]
  },
  {
   "cell_type": "code",
   "execution_count": 5,
   "id": "ddb227a6-18e6-487e-a05f-418d5a02858b",
   "metadata": {},
   "outputs": [],
   "source": [
    "# Identify rows with missing 'sde'\n",
    "missing_rows = df['sde'].isna()\n",
    "\n",
    "# Prepare data for training the imputation model\n",
    "X_train = df.loc[~missing_rows, ['time', 'longitude', 'latitude']]\n",
    "y_train = df.loc[~missing_rows, 'sde']\n",
    "X_missing = df.loc[missing_rows, ['time', 'longitude', 'latitude']]"
   ]
  },
  {
   "cell_type": "code",
   "execution_count": 6,
   "id": "3ea183c8-399e-48a7-9782-d17df1c064e0",
   "metadata": {},
   "outputs": [
    {
     "data": {
      "text/html": [
       "<style>#sk-container-id-1 {color: black;}#sk-container-id-1 pre{padding: 0;}#sk-container-id-1 div.sk-toggleable {background-color: white;}#sk-container-id-1 label.sk-toggleable__label {cursor: pointer;display: block;width: 100%;margin-bottom: 0;padding: 0.3em;box-sizing: border-box;text-align: center;}#sk-container-id-1 label.sk-toggleable__label-arrow:before {content: \"▸\";float: left;margin-right: 0.25em;color: #696969;}#sk-container-id-1 label.sk-toggleable__label-arrow:hover:before {color: black;}#sk-container-id-1 div.sk-estimator:hover label.sk-toggleable__label-arrow:before {color: black;}#sk-container-id-1 div.sk-toggleable__content {max-height: 0;max-width: 0;overflow: hidden;text-align: left;background-color: #f0f8ff;}#sk-container-id-1 div.sk-toggleable__content pre {margin: 0.2em;color: black;border-radius: 0.25em;background-color: #f0f8ff;}#sk-container-id-1 input.sk-toggleable__control:checked~div.sk-toggleable__content {max-height: 200px;max-width: 100%;overflow: auto;}#sk-container-id-1 input.sk-toggleable__control:checked~label.sk-toggleable__label-arrow:before {content: \"▾\";}#sk-container-id-1 div.sk-estimator input.sk-toggleable__control:checked~label.sk-toggleable__label {background-color: #d4ebff;}#sk-container-id-1 div.sk-label input.sk-toggleable__control:checked~label.sk-toggleable__label {background-color: #d4ebff;}#sk-container-id-1 input.sk-hidden--visually {border: 0;clip: rect(1px 1px 1px 1px);clip: rect(1px, 1px, 1px, 1px);height: 1px;margin: -1px;overflow: hidden;padding: 0;position: absolute;width: 1px;}#sk-container-id-1 div.sk-estimator {font-family: monospace;background-color: #f0f8ff;border: 1px dotted black;border-radius: 0.25em;box-sizing: border-box;margin-bottom: 0.5em;}#sk-container-id-1 div.sk-estimator:hover {background-color: #d4ebff;}#sk-container-id-1 div.sk-parallel-item::after {content: \"\";width: 100%;border-bottom: 1px solid gray;flex-grow: 1;}#sk-container-id-1 div.sk-label:hover label.sk-toggleable__label {background-color: #d4ebff;}#sk-container-id-1 div.sk-serial::before {content: \"\";position: absolute;border-left: 1px solid gray;box-sizing: border-box;top: 0;bottom: 0;left: 50%;z-index: 0;}#sk-container-id-1 div.sk-serial {display: flex;flex-direction: column;align-items: center;background-color: white;padding-right: 0.2em;padding-left: 0.2em;position: relative;}#sk-container-id-1 div.sk-item {position: relative;z-index: 1;}#sk-container-id-1 div.sk-parallel {display: flex;align-items: stretch;justify-content: center;background-color: white;position: relative;}#sk-container-id-1 div.sk-item::before, #sk-container-id-1 div.sk-parallel-item::before {content: \"\";position: absolute;border-left: 1px solid gray;box-sizing: border-box;top: 0;bottom: 0;left: 50%;z-index: -1;}#sk-container-id-1 div.sk-parallel-item {display: flex;flex-direction: column;z-index: 1;position: relative;background-color: white;}#sk-container-id-1 div.sk-parallel-item:first-child::after {align-self: flex-end;width: 50%;}#sk-container-id-1 div.sk-parallel-item:last-child::after {align-self: flex-start;width: 50%;}#sk-container-id-1 div.sk-parallel-item:only-child::after {width: 0;}#sk-container-id-1 div.sk-dashed-wrapped {border: 1px dashed gray;margin: 0 0.4em 0.5em 0.4em;box-sizing: border-box;padding-bottom: 0.4em;background-color: white;}#sk-container-id-1 div.sk-label label {font-family: monospace;font-weight: bold;display: inline-block;line-height: 1.2em;}#sk-container-id-1 div.sk-label-container {text-align: center;}#sk-container-id-1 div.sk-container {/* jupyter's `normalize.less` sets `[hidden] { display: none; }` but bootstrap.min.css set `[hidden] { display: none !important; }` so we also need the `!important` here to be able to override the default hidden behavior on the sphinx rendered scikit-learn.org. See: https://github.com/scikit-learn/scikit-learn/issues/21755 */display: inline-block !important;position: relative;}#sk-container-id-1 div.sk-text-repr-fallback {display: none;}</style><div id=\"sk-container-id-1\" class=\"sk-top-container\"><div class=\"sk-text-repr-fallback\"><pre>RandomForestRegressor(random_state=42)</pre><b>In a Jupyter environment, please rerun this cell to show the HTML representation or trust the notebook. <br />On GitHub, the HTML representation is unable to render, please try loading this page with nbviewer.org.</b></div><div class=\"sk-container\" hidden><div class=\"sk-item\"><div class=\"sk-estimator sk-toggleable\"><input class=\"sk-toggleable__control sk-hidden--visually\" id=\"sk-estimator-id-1\" type=\"checkbox\" checked><label for=\"sk-estimator-id-1\" class=\"sk-toggleable__label sk-toggleable__label-arrow\">RandomForestRegressor</label><div class=\"sk-toggleable__content\"><pre>RandomForestRegressor(random_state=42)</pre></div></div></div></div></div>"
      ],
      "text/plain": [
       "RandomForestRegressor(random_state=42)"
      ]
     },
     "execution_count": 6,
     "metadata": {},
     "output_type": "execute_result"
    }
   ],
   "source": [
    "from sklearn.ensemble import RandomForestRegressor\n",
    "\n",
    "# Train the imputer model\n",
    "imputer_model = RandomForestRegressor(n_estimators=100, random_state=42)\n",
    "imputer_model.fit(X_train, y_train)"
   ]
  },
  {
   "cell_type": "code",
   "execution_count": 7,
   "id": "c45dcb7d-76b2-4473-8e0f-ad0ca8e17570",
   "metadata": {},
   "outputs": [],
   "source": [
    "# Impute missing values\n",
    "predicted_sde = imputer_model.predict(X_missing)\n",
    "df.loc[missing_rows, 'sde'] = predicted_sde"
   ]
  },
  {
   "cell_type": "code",
   "execution_count": 9,
   "id": "19021135-bec6-4921-b08d-26b92613e39a",
   "metadata": {},
   "outputs": [
    {
     "data": {
      "text/html": [
       "<div>\n",
       "<style scoped>\n",
       "    .dataframe tbody tr th:only-of-type {\n",
       "        vertical-align: middle;\n",
       "    }\n",
       "\n",
       "    .dataframe tbody tr th {\n",
       "        vertical-align: top;\n",
       "    }\n",
       "\n",
       "    .dataframe thead th {\n",
       "        text-align: right;\n",
       "    }\n",
       "</style>\n",
       "<table border=\"1\" class=\"dataframe\">\n",
       "  <thead>\n",
       "    <tr style=\"text-align: right;\">\n",
       "      <th></th>\n",
       "      <th>longitude</th>\n",
       "      <th>latitude</th>\n",
       "      <th>time</th>\n",
       "      <th>sde</th>\n",
       "    </tr>\n",
       "  </thead>\n",
       "  <tbody>\n",
       "    <tr>\n",
       "      <th>0</th>\n",
       "      <td>35.65</td>\n",
       "      <td>34.5</td>\n",
       "      <td>0</td>\n",
       "      <td>0.009742</td>\n",
       "    </tr>\n",
       "    <tr>\n",
       "      <th>1</th>\n",
       "      <td>36.35</td>\n",
       "      <td>34.3</td>\n",
       "      <td>0</td>\n",
       "      <td>0.067378</td>\n",
       "    </tr>\n",
       "    <tr>\n",
       "      <th>2</th>\n",
       "      <td>35.95</td>\n",
       "      <td>33.6</td>\n",
       "      <td>0</td>\n",
       "      <td>0.007813</td>\n",
       "    </tr>\n",
       "    <tr>\n",
       "      <th>3</th>\n",
       "      <td>36.35</td>\n",
       "      <td>33.7</td>\n",
       "      <td>0</td>\n",
       "      <td>0.004883</td>\n",
       "    </tr>\n",
       "    <tr>\n",
       "      <th>4</th>\n",
       "      <td>36.35</td>\n",
       "      <td>33.1</td>\n",
       "      <td>0</td>\n",
       "      <td>0.000000</td>\n",
       "    </tr>\n",
       "  </tbody>\n",
       "</table>\n",
       "</div>"
      ],
      "text/plain": [
       "   longitude  latitude  time       sde\n",
       "0      35.65      34.5     0  0.009742\n",
       "1      36.35      34.3     0  0.067378\n",
       "2      35.95      33.6     0  0.007813\n",
       "3      36.35      33.7     0  0.004883\n",
       "4      36.35      33.1     0  0.000000"
      ]
     },
     "execution_count": 9,
     "metadata": {},
     "output_type": "execute_result"
    }
   ],
   "source": [
    "df.head()"
   ]
  },
  {
   "cell_type": "code",
   "execution_count": null,
   "id": "0ce30d41-a74b-4972-addf-c3f59e11bc46",
   "metadata": {},
   "outputs": [],
   "source": []
  }
 ],
 "metadata": {
  "kernelspec": {
   "display_name": "Python 3 (ipykernel)",
   "language": "python",
   "name": "python3"
  },
  "language_info": {
   "codemirror_mode": {
    "name": "ipython",
    "version": 3
   },
   "file_extension": ".py",
   "mimetype": "text/x-python",
   "name": "python",
   "nbconvert_exporter": "python",
   "pygments_lexer": "ipython3",
   "version": "3.11.4"
  }
 },
 "nbformat": 4,
 "nbformat_minor": 5
}
